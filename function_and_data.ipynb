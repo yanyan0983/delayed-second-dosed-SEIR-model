{
 "cells": [
  {
   "cell_type": "code",
   "execution_count": 6,
   "id": "38870af4",
   "metadata": {
    "scrolled": true
   },
   "outputs": [],
   "source": [
    "import numpy as np\n",
    "import pandas as pd\n",
    "from scipy.integrate import odeint\n",
    "import seaborn as sns\n",
    "from matplotlib import pyplot as plt \n",
    "import time\n",
    "from timeit import default_timer as timer\n",
    "import pickle\n",
    "import sys"
   ]
  },
  {
   "cell_type": "code",
   "execution_count": 9,
   "id": "2bb57fe2",
   "metadata": {},
   "outputs": [],
   "source": [
    "##从 \"https://www.ncbi.nlm.nih.gov/pmc/articles/PMC5609774/\n",
    "##UK Contact matrix\n",
    "UK_matrix_all = pd.read_csv(r'C:\\Users\\Mardo\\Desktop\\COVID-19 model\\data\\UK_social_matrix.csv', sep=',',header=None).to_numpy()\n",
    "#print(matAll)"
   ]
  },
  {
   "cell_type": "code",
   "execution_count": 10,
   "id": "014b062a",
   "metadata": {},
   "outputs": [],
   "source": [
    "##total_UK_population and UK_population_array）\n",
    "UK_population_array = UK_population_by_age['number'].to_numpy()\n",
    "# print(UK_population_array)\n",
    "total_UK_population=np.sum(UK_population_array)\n",
    "#print(total_UK_population)"
   ]
  },
  {
   "cell_type": "code",
   "execution_count": 11,
   "id": "1dda44a7",
   "metadata": {},
   "outputs": [],
   "source": [
    "##UK_population_percentage\n",
    "UK_population_percentage=(1/total_UK_population)*UK_population_array\n",
    "# print(UK_population_percentage)"
   ]
  },
  {
   "cell_type": "code",
   "execution_count": 12,
   "id": "1e8fb1f4",
   "metadata": {},
   "outputs": [],
   "source": [
    "def create_Consistent_Matrix(myMat, totalPop):\n",
    "    [n, m] = np.shape(myMat)\n",
    "    newMat = np.zeros((n, n))\n",
    "    for ivals in range(n):\n",
    "        for jvals in range(n):\n",
    "            newMat[ivals, jvals] = (1/(2*totalPop[ivals]))*(myMat[ivals, jvals]*totalPop[ivals] + myMat[jvals, ivals]*totalPop[jvals])\n",
    "    return newMat"
   ]
  },
  {
   "cell_type": "code",
   "execution_count": 13,
   "id": "7cd1a756",
   "metadata": {},
   "outputs": [
    {
     "name": "stdout",
     "output_type": "stream",
     "text": [
      "[3857263 4149852 3953866 3656968 4153080 4514249 4497132 4395667 4019539\n",
      " 4402122 4661015 4405908 3755185 3368199 3318867 5687895]\n"
     ]
    }
   ],
   "source": [
    "UK_population_16groups  = np.concatenate([UK_population_array[0:15], [np.sum(UK_population_array[15:])]])\n",
    "# print(UK_population_16groups )"
   ]
  },
  {
   "cell_type": "code",
   "execution_count": 14,
   "id": "657bebcb",
   "metadata": {},
   "outputs": [],
   "source": [
    "UK_population_16groups_percentages=(1/total_UK_population)*UK_population_16groups\n",
    "# bprint(UK_population_16groups_percentages)"
   ]
  },
  {
   "cell_type": "code",
   "execution_count": 15,
   "id": "37712951",
   "metadata": {},
   "outputs": [],
   "source": [
    "consistent_matrix= create_Consistent_Matrix(UK_matrix_all.transpose(),UK_population_16groups)\n",
    "#print(UK_matrix_all_processed )"
   ]
  },
  {
   "cell_type": "code",
   "execution_count": 22,
   "id": "6d975856",
   "metadata": {},
   "outputs": [],
   "source": [
    "myfilename = 'UK_consistent_matrix'+ '.pickle'\n",
    "myfile = open(myfilename, 'wb')\n",
    "pickle.dump(consistent_matrix, myfile)\n",
    "myfile.close()"
   ]
  },
  {
   "cell_type": "code",
   "execution_count": 23,
   "id": "ffb1ede3",
   "metadata": {},
   "outputs": [],
   "source": [
    "myfilename = 'UK_population_16Groups_fractions'+ '.pickle'\n",
    "myfile = open(myfilename, 'wb')\n",
    "pickle.dump(UK_population_16groups_percentages,myfile)\n",
    "myfile.close()"
   ]
  },
  {
   "cell_type": "code",
   "execution_count": null,
   "id": "c9723836",
   "metadata": {},
   "outputs": [],
   "source": [
    "myfilename = 'UK_vacicne_5Groups_fractions'+ '.pickle'\n",
    "myfile = open(myfilename, 'wb')\n",
    "pickle.dump(vaccine_groups_percentages,myfile)\n",
    "myfile.close()"
   ]
  },
  {
   "cell_type": "code",
   "execution_count": null,
   "id": "df2c39bc",
   "metadata": {},
   "outputs": [],
   "source": [
    "scottish_hosp_cases=np.ones(16)\n",
    "scottish_hosp_cases[0:1] = 238\n",
    "scottish_hosp_cases[1:3] = 149/2\n",
    "scottish_hosp_cases[3:4] = 127\n",
    "scottish_hosp_cases[4:5] = 248\n",
    "scottish_hosp_cases[5:9] = 2396/4\n",
    "scottish_hosp_cases[9:13] = 7089/4\n",
    "scottish_hosp_cases[13:15] = 4758/2\n",
    "scottish_hosp_cases[15:16] = 5677+4208\n",
    "\n",
    "\n",
    "Scottish_population_by_age = pd.read_excel('scottish_population.xlsx')\n",
    "Scottish_population_array = Scottish_population_by_age['number'].to_numpy()\n",
    "Scottish_population_16groups  = np.concatenate([Scottish_population_array[0:15], [np.sum(Scottish_population_array[15:])]])\n",
    "\n",
    "\n",
    "scottish_hosp_rate=scottish_hosp_cases/Scottish_population_16groups\n",
    "scottish_hosp_cases"
   ]
  },
  {
   "cell_type": "code",
   "execution_count": null,
   "id": "ed4eeebc",
   "metadata": {},
   "outputs": [],
   "source": [
    "scottish_death_cases=np.ones(16)\n",
    "scottish_death_cases[0:3] = 3/3\n",
    "scottish_death_cases[3:9] = 86/6\n",
    "scottish_death_cases[9:13] = 1045/4\n",
    "scottish_death_cases[13:15] = 1665/2\n",
    "scottish_death_cases[15:16] = 3273+4050\n",
    "\n",
    "scottish_death_rate=np.divide(scottish_death_cases,scottish_hosp_cases)\n",
    "\n",
    "myfilename = 'scottish_death_rate'+ '.pickle'\n",
    "myfile = open(myfilename, 'wb')\n",
    "pickle.dump(scottish_death_rate,myfile)\n",
    "myfile.close()\n",
    "print(scottish_death_rate)"
   ]
  }
 ],
 "metadata": {
  "kernelspec": {
   "display_name": "Python 3",
   "language": "python",
   "name": "python3"
  },
  "language_info": {
   "codemirror_mode": {
    "name": "ipython",
    "version": 3
   },
   "file_extension": ".py",
   "mimetype": "text/x-python",
   "name": "python",
   "nbconvert_exporter": "python",
   "pygments_lexer": "ipython3",
   "version": "3.8.8"
  }
 },
 "nbformat": 4,
 "nbformat_minor": 5
}
